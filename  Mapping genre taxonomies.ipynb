{
 "cells": [
  {
   "cell_type": "code",
   "execution_count": 1,
   "metadata": {},
   "outputs": [
    {
     "name": "stdout",
     "output_type": "stream",
     "text": [
      "loading datasets....\n",
      "\n",
      "allmusic_df is loaded \n",
      "Size = 56834946\n",
      "Shape =(1353213, 42)\n",
      "\n",
      "\n"
     ]
    },
    {
     "name": "stderr",
     "output_type": "stream",
     "text": [
      "/usr/local/lib/python3.7/site-packages/IPython/core/interactiveshell.py:3018: DtypeWarning: Columns (17,18,19,20,21,22,23,24,25,26,27,28,29,30,31) have mixed types. Specify dtype option on import or set low_memory=False.\n",
      "  interactivity=interactivity, compiler=compiler, result=result)\n"
     ]
    },
    {
     "name": "stdout",
     "output_type": "stream",
     "text": [
      "discogs_df is loaded \n",
      "Size = 28958208\n",
      "Shape =(904944, 32)\n",
      "\n",
      "\n"
     ]
    },
    {
     "name": "stderr",
     "output_type": "stream",
     "text": [
      "/usr/local/lib/python3.7/site-packages/IPython/core/interactiveshell.py:3018: DtypeWarning: Columns (11) have mixed types. Specify dtype option on import or set low_memory=False.\n",
      "  interactivity=interactivity, compiler=compiler, result=result)\n"
     ]
    },
    {
     "name": "stdout",
     "output_type": "stream",
     "text": [
      "lastfm_df is loaded \n",
      "Size = 6800520\n",
      "Shape =(566710, 12)\n",
      "\n",
      "\n",
      "tagtraum_df is loaded \n",
      "Size = 5354140\n",
      "Shape =(486740, 11)\n",
      "\n",
      "\n"
     ]
    }
   ],
   "source": [
    "#preparation\n",
    "import pandas as pd\n",
    "\n",
    "\n",
    "def printDataFrame(df, message):    \n",
    "    print(message + \" \\nSize = {}\\nShape ={}\\n\\n\"\n",
    "          .format(df.size, df.shape))\n",
    "\n",
    "    \n",
    "print('loading datasets....\\n')\n",
    "dataset_path = './datasets/'\n",
    "\n",
    "allmusic_df=pd.read_csv(dataset_path + 'acousticbrainz-mediaeval2017-allmusic-train.tsv',delimiter='\\t', dtype=str)\n",
    "printDataFrame(allmusic_df, 'allmusic_df is loaded')\n",
    "\n",
    "\n",
    "discogs_df=pd.read_csv(dataset_path + 'acousticbrainz-mediaeval2017-discogs-train.tsv',delimiter='\\t')\n",
    "printDataFrame(discogs_df, 'discogs_df is loaded') \n",
    "\n",
    "\n",
    "lastfm_df=pd.read_csv(dataset_path + 'acousticbrainz-mediaeval2017-lastfm-train.tsv',delimiter='\\t')\n",
    "printDataFrame(lastfm_df, 'lastfm_df is loaded')  \n",
    "\n",
    "\n",
    "tagtraum_df=pd.read_csv(dataset_path + 'acousticbrainz-mediaeval2017-tagtraum-train.tsv',delimiter='\\t')\n",
    "printDataFrame(tagtraum_df, 'tagtraum_df is loaded')\n",
    "\n",
    "\n",
    "#print(allmusic_df.head(5)) #first N rows"
   ]
  },
  {
   "cell_type": "code",
   "execution_count": 2,
   "metadata": {},
   "outputs": [
    {
     "name": "stdout",
     "output_type": "stream",
     "text": [
      "computing datasets intersection....\n",
      "\n",
      "all 4 intersected \n",
      "Size = 23285304\n",
      "Shape =(247716, 94)\n",
      "\n",
      "\n"
     ]
    }
   ],
   "source": [
    "#1.-Take the four datasets and compute the intersection of all of them, based on the recording ID.\n",
    "\n",
    "def calculate_intersection(dflist, column):\n",
    "    intersected_temp = pd.merge(dflist[0], dflist[1], how='inner', on=[column])\n",
    "    for df in dflist[2:]:\n",
    "        intersected_temp = pd.merge(intersected_temp, df, how='inner', on=[column])\n",
    "    return intersected_temp\n",
    "\n",
    "\n",
    "print('computing datasets intersection....\\n')\n",
    "      \n",
    "intersected_df = calculate_intersection([allmusic_df, discogs_df, lastfm_df, tagtraum_df], 'recordingmbid')        \n",
    "\n",
    "printDataFrame(intersected_df, 'all 4 intersected')\n"
   ]
  },
  {
   "cell_type": "code",
   "execution_count": 3,
   "metadata": {},
   "outputs": [
    {
     "name": "stdout",
     "output_type": "stream",
     "text": [
      "prefixes added\n",
      "intersection claculated \n",
      "\n",
      "all 4 sources intersected, empty columns removed \n",
      "Size = 20808144\n",
      "Shape =(247716, 84)\n",
      "\n",
      "\n"
     ]
    }
   ],
   "source": [
    "# 2- Based on this intersection, create a dataset with annotations by all four sources,\n",
    "# where every subgenre is expressed as a string \"sourcename---genrename---subgenrename\" \n",
    "# to be able to distinguish subgenres coming from different annotation sources.\n",
    "\n",
    "def add_prefix(val, prefix):\n",
    "    if (type(val) == str):\n",
    "        return prefix + val\n",
    "    \n",
    "def get_genres(df):\n",
    "    return df.iloc[:, 2:]\n",
    "\n",
    "def get_ids(df):\n",
    "    return df.iloc[:, :2]\n",
    "     \n",
    "def add_genre_prefix(df, prefix):\n",
    "    ids = get_ids(df)\n",
    "    formatted_genres = get_genres(df).applymap(lambda x: add_prefix(x, prefix))\n",
    "    return pd.concat([ids, formatted_genres], axis=1)\n",
    "\n",
    "def remove_nan_columns(df):\n",
    "    all_na_indexes = df.columns[df.isna().all()].tolist()\n",
    "    return df.drop(all_na_indexes, axis=1)\n",
    "\n",
    "print('adding prefixes ...')\n",
    "lastfm_formatted = add_genre_prefix(lastfm_df,'lastfm---')\n",
    "discogs_formatted = add_genre_prefix(discogs_df,'discogs---')\n",
    "allmusic_formatted = add_genre_prefix(allmusic_df,'allmusic---')\n",
    "tagtraum_formatted = add_genre_prefix(tagtraum_df,'tagtraum---')\n",
    "print('prefixes added')\n",
    "\n",
    "\n",
    "intersected_df = calculate_intersection([\n",
    "    allmusic_formatted, \n",
    "    discogs_formatted, \n",
    "    lastfm_formatted, \n",
    "    tagtraum_formatted],\n",
    "    'recordingmbid')        \n",
    "\n",
    "print('intersection claculated \\n')\n",
    "    \n",
    "intersected_df = remove_nan_columns(intersected_df)\n",
    "printDataFrame(intersected_df, 'all 4 sources intersected, empty columns removed')"
   ]
  },
  {
   "cell_type": "code",
   "execution_count": 4,
   "metadata": {},
   "outputs": [
    {
     "name": "stdout",
     "output_type": "stream",
     "text": [
      " \n",
      "1702 labels found \n",
      "\n",
      "1060 subgenre labels appear more than 200 times \n",
      "\n",
      "1290705 subgenre/genre values removed,  2201023 subgenre values kept\n",
      "\n"
     ]
    }
   ],
   "source": [
    "#3 - If you have too many subgenre labels, remove subgenres that occur for less than 200 recordings \n",
    "#(or decide your own threshold).\n",
    "\n",
    "min_threshold = 200\n",
    "\n",
    "def is_genre_or_subgenre(string): return \"---\" in string;\n",
    "\n",
    "def is_subgenre(string):\n",
    "    return \"---\" in string[string.find(\"---\")+3:]\n",
    "\n",
    "indexs = intersected_df.columns[pd.Series(intersected_df.columns).str.startswith('genre')].tolist()\n",
    "unique_indexs = list(set(indexs))\n",
    "genre_columns = intersected_df[unique_indexs] #columns containing genre info\n",
    "counts = genre_columns.apply(pd.value_counts) \n",
    "ranked_counts = counts.sum(axis=1).sort_values(ascending=False)\n",
    "print(\" \\n{} labels found \\n\"\n",
    "      .format(len(ranked_counts.index[:])))\n",
    "\n",
    "genre_labels = ranked_counts[ranked_counts>min_threshold].index[:].tolist() #labels over threshold\n",
    "subgenres_to_keep = [i for i in genre_labels if is_subgenre(i)] #list of subgenres over treshold\n",
    "\n",
    "print(\"{} subgenre labels appear more than {} times \\n\"\n",
    "      .format(len(subgenres_to_keep), min_threshold))\n",
    "\n",
    "\n",
    "#remove genres and unwanted subgenres\n",
    "deleted_subgenres_counter = 0\n",
    "kept_subgenres_counter = 0\n",
    "\n",
    "def remove_unwanted_labels(val):\n",
    "    new_val= val\n",
    "    if (type(val) == str):\n",
    "        if is_genre_or_subgenre(val):\n",
    "            if val not in subgenres_to_keep:\n",
    "                new_val = None\n",
    "                global deleted_subgenres_counter\n",
    "                deleted_subgenres_counter += 1\n",
    "            else:\n",
    "                global kept_subgenres_counter\n",
    "                kept_subgenres_counter +=1\n",
    "    return new_val\n",
    "\n",
    "intersected_filtered = intersected_df.applymap(remove_unwanted_labels)\n",
    "\n",
    "print(\"{} subgenre/genre values removed,  {} subgenre values kept\\n\"\n",
    "      .format(deleted_subgenres_counter, kept_subgenres_counter))"
   ]
  },
  {
   "cell_type": "code",
   "execution_count": 19,
   "metadata": {},
   "outputs": [
    {
     "data": {
      "text/plain": [
       "'Iteration 247715 Progress: 100.0%'"
      ]
     },
     "metadata": {},
     "output_type": "display_data"
    },
    {
     "name": "stdout",
     "output_type": "stream",
     "text": [
      "track_subgenre_ocurrence_matrix computed \n",
      "Size = 262826676\n",
      "Shape =(247716, 1061)\n",
      "\n",
      "\n"
     ]
    },
    {
     "ename": "NameError",
     "evalue": "name 'df' is not defined",
     "output_type": "error",
     "traceback": [
      "\u001b[0;31m-----------------------------------------------------------\u001b[0m",
      "\u001b[0;31mNameError\u001b[0m                 Traceback (most recent call last)",
      "\u001b[0;32m<ipython-input-19-2005e2f0e5d8>\u001b[0m in \u001b[0;36m<module>\u001b[0;34m\u001b[0m\n\u001b[1;32m     46\u001b[0m \u001b[0;34m\u001b[0m\u001b[0m\n\u001b[1;32m     47\u001b[0m \u001b[0;34m\u001b[0m\u001b[0m\n\u001b[0;32m---> 48\u001b[0;31m \u001b[0mdf\u001b[0m\u001b[0;34m.\u001b[0m\u001b[0mhead\u001b[0m\u001b[0;34m(\u001b[0m\u001b[0;36m2\u001b[0m\u001b[0;34m)\u001b[0m\u001b[0;34m\u001b[0m\u001b[0;34m\u001b[0m\u001b[0m\n\u001b[0m\u001b[1;32m     49\u001b[0m \u001b[0;31m#df.set_index('recordingmbid')\u001b[0m\u001b[0;34m\u001b[0m\u001b[0;34m\u001b[0m\u001b[0;34m\u001b[0m\u001b[0m\n",
      "\u001b[0;31mNameError\u001b[0m: name 'df' is not defined"
     ]
    }
   ],
   "source": [
    "# 4.- Compute a track-subgenre occurrence matrix. Rows represent tracks, columns represent subgenres.\n",
    "# Each cell represents if a particular track is annotated by a particular subgenrename (1 or 0).\n",
    "# This matrix allows to compute similarity between subgenres using a cosine distance between columns, \n",
    "# and we can use this similarity to cluster similar subgenres together.\n",
    "from collections import OrderedDict\n",
    "from IPython.display import display, clear_output\n",
    "\n",
    "\n",
    "def zerolistmaker(n):\n",
    "    listofzeros = [0] * n\n",
    "    return listofzeros\n",
    "\n",
    "\n",
    "def create_subgenre_to_trackIndexes_map(df, subgenres, tracks):\n",
    "    subgenre_to_trackIndexes = {}\n",
    "    \n",
    "    for subgenre in subgenres:\n",
    "        subgenre_to_trackIndexes[subgenre] = zerolistmaker(len(tracks)) #initialize subgenre_to_trackIndexes map\n",
    "\n",
    "    genre_columns = df.columns[pd.Series(df.columns).str.startswith('genre')].tolist()    \n",
    "    genre_columns_df = df[genre_columns]\n",
    "    \n",
    "    for index in range(len(tracks)):\n",
    "        clear_output(wait=True)\n",
    "        display('Iteration '+str(index)+' Progress: '+str(round((index/len(tracks))*100,2)) + '%') #print progress\n",
    "        \n",
    "        subgenres = genre_columns_df.iloc[index].values #get subgenres for a track as list\n",
    "        for subgenre in subgenres:\n",
    "            if subgenre is not None:\n",
    "                subgenre_to_trackIndexes[subgenre][index] = 1\n",
    "    return subgenre_to_trackIndexes\n",
    "\n",
    "\n",
    "\n",
    "subgenres_to_keep #subgenre list\n",
    "track_ids = intersected_filtered.iloc[:,0].tolist()\n",
    "dest = OrderedDict([('recordingmbid', track_ids) ])\n",
    "\n",
    "print('computing subgenre_to_trackIndexes map, it will take a while ()... \\n')\n",
    "subgenre_to_trackIndexes = create_subgenre_to_trackIndexes_map(intersected_filtered, subgenres_to_keep, track_ids)\n",
    "dest.update(subgenre_to_trackIndexes)\n",
    "\n",
    "track_subgenre_ocurrence_matrix = pd.DataFrame.from_dict(dest)\n",
    "printDataFrame(track_subgenre_ocurrence_matrix, 'track_subgenre_ocurrence_matrix computed')\n",
    "\n",
    "track_subgenre_ocurrence_matrix.head(2)\n",
    "#df.set_index('recordingmbid')"
   ]
  },
  {
   "cell_type": "code",
   "execution_count": 22,
   "metadata": {},
   "outputs": [
    {
     "data": {
      "text/html": [
       "<div>\n",
       "<style scoped>\n",
       "    .dataframe tbody tr th:only-of-type {\n",
       "        vertical-align: middle;\n",
       "    }\n",
       "\n",
       "    .dataframe tbody tr th {\n",
       "        vertical-align: top;\n",
       "    }\n",
       "\n",
       "    .dataframe thead th {\n",
       "        text-align: right;\n",
       "    }\n",
       "</style>\n",
       "<table border=\"1\" class=\"dataframe\">\n",
       "  <thead>\n",
       "    <tr style=\"text-align: right;\">\n",
       "      <th></th>\n",
       "      <th>recordingmbid</th>\n",
       "      <th>releasegroupmbid_x</th>\n",
       "      <th>genre1_x</th>\n",
       "      <th>genre2_x</th>\n",
       "      <th>genre3_x</th>\n",
       "      <th>genre4_x</th>\n",
       "      <th>genre5_x</th>\n",
       "      <th>genre6_x</th>\n",
       "      <th>genre7_x</th>\n",
       "      <th>genre8_x</th>\n",
       "      <th>...</th>\n",
       "      <th>releasegroupmbid_y</th>\n",
       "      <th>genre1_y</th>\n",
       "      <th>genre2_y</th>\n",
       "      <th>genre3_y</th>\n",
       "      <th>genre4_y</th>\n",
       "      <th>genre5_y</th>\n",
       "      <th>genre6_y</th>\n",
       "      <th>genre7_y</th>\n",
       "      <th>genre8_y</th>\n",
       "      <th>genre9_y</th>\n",
       "    </tr>\n",
       "  </thead>\n",
       "  <tbody>\n",
       "    <tr>\n",
       "      <th>0</th>\n",
       "      <td>1a00a335-fead-46ec-8d4f-06e8341291ea</td>\n",
       "      <td>0f2ccf4d-d242-3c23-a419-ea548af51df3</td>\n",
       "      <td>None</td>\n",
       "      <td>None</td>\n",
       "      <td>None</td>\n",
       "      <td>None</td>\n",
       "      <td>None</td>\n",
       "      <td>None</td>\n",
       "      <td>None</td>\n",
       "      <td>None</td>\n",
       "      <td>...</td>\n",
       "      <td>0f2ccf4d-d242-3c23-a419-ea548af51df3</td>\n",
       "      <td>None</td>\n",
       "      <td>tagtraum---dance---house</td>\n",
       "      <td>None</td>\n",
       "      <td>tagtraum---electronic---ambient</td>\n",
       "      <td>tagtraum---electronic---elektro</td>\n",
       "      <td>None</td>\n",
       "      <td>None</td>\n",
       "      <td>None</td>\n",
       "      <td>None</td>\n",
       "    </tr>\n",
       "    <tr>\n",
       "      <th>1</th>\n",
       "      <td>6a458aa4-698a-410b-b7ad-025fd8fcb071</td>\n",
       "      <td>45eb73f9-ab6c-3264-8337-9c16ff7bd94d</td>\n",
       "      <td>None</td>\n",
       "      <td>None</td>\n",
       "      <td>allmusic---pop/rock---alternative/indie rock</td>\n",
       "      <td>allmusic---pop/rock---art-rock/experimental</td>\n",
       "      <td>allmusic---pop/rock---club/dance</td>\n",
       "      <td>allmusic---pop/rock---dance</td>\n",
       "      <td>allmusic---pop/rock---experimental rock</td>\n",
       "      <td>allmusic---pop/rock---industrial</td>\n",
       "      <td>...</td>\n",
       "      <td>45eb73f9-ab6c-3264-8337-9c16ff7bd94d</td>\n",
       "      <td>None</td>\n",
       "      <td>tagtraum---electronic---ambient</td>\n",
       "      <td>tagtraum---electronic---idm</td>\n",
       "      <td>None</td>\n",
       "      <td>None</td>\n",
       "      <td>None</td>\n",
       "      <td>None</td>\n",
       "      <td>None</td>\n",
       "      <td>None</td>\n",
       "    </tr>\n",
       "  </tbody>\n",
       "</table>\n",
       "<p>2 rows × 84 columns</p>\n",
       "</div>"
      ],
      "text/plain": [
       "                          recordingmbid                    releasegroupmbid_x  \\\n",
       "0  1a00a335-fead-46ec-8d4f-06e8341291ea  0f2ccf4d-d242-3c23-a419-ea548af51df3   \n",
       "1  6a458aa4-698a-410b-b7ad-025fd8fcb071  45eb73f9-ab6c-3264-8337-9c16ff7bd94d   \n",
       "\n",
       "  genre1_x genre2_x                                      genre3_x  \\\n",
       "0     None     None                                          None   \n",
       "1     None     None  allmusic---pop/rock---alternative/indie rock   \n",
       "\n",
       "                                      genre4_x  \\\n",
       "0                                         None   \n",
       "1  allmusic---pop/rock---art-rock/experimental   \n",
       "\n",
       "                           genre5_x                     genre6_x  \\\n",
       "0                              None                         None   \n",
       "1  allmusic---pop/rock---club/dance  allmusic---pop/rock---dance   \n",
       "\n",
       "                                  genre7_x                          genre8_x  \\\n",
       "0                                     None                              None   \n",
       "1  allmusic---pop/rock---experimental rock  allmusic---pop/rock---industrial   \n",
       "\n",
       "   ...                    releasegroupmbid_y genre1_y  \\\n",
       "0  ...  0f2ccf4d-d242-3c23-a419-ea548af51df3     None   \n",
       "1  ...  45eb73f9-ab6c-3264-8337-9c16ff7bd94d     None   \n",
       "\n",
       "                          genre2_y                     genre3_y  \\\n",
       "0         tagtraum---dance---house                         None   \n",
       "1  tagtraum---electronic---ambient  tagtraum---electronic---idm   \n",
       "\n",
       "                          genre4_y                         genre5_y genre6_y  \\\n",
       "0  tagtraum---electronic---ambient  tagtraum---electronic---elektro     None   \n",
       "1                             None                             None     None   \n",
       "\n",
       "  genre7_y genre8_y genre9_y  \n",
       "0     None     None     None  \n",
       "1     None     None     None  \n",
       "\n",
       "[2 rows x 84 columns]"
      ]
     },
     "execution_count": 22,
     "metadata": {},
     "output_type": "execute_result"
    }
   ],
   "source": []
  },
  {
   "cell_type": "code",
   "execution_count": 597,
   "metadata": {},
   "outputs": [
    {
     "name": "stdout",
     "output_type": "stream",
     "text": [
      "True\n",
      "True\n",
      "True\n",
      "True\n",
      "True\n",
      "True\n",
      "True\n",
      "True\n",
      "True\n"
     ]
    }
   ],
   "source": [
    "# SOME TESTS\n",
    "\n",
    "print(lastfm_df.equals(pd.concat([get_ids(lastfm_df), get_genres(lastfm_df)], axis=1)))\n",
    "\n",
    "\n",
    "intersected_test = pd.merge(allmusic_df, discogs_df, how='inner', on=['recordingmbid'])\n",
    "intersected_test = pd.merge(intersected_test, lastfm_df, how='inner', on=['recordingmbid'])\n",
    "intersected_test = pd.merge(intersected_test, tagtraum_df, how='inner', on=['recordingmbid'])\n",
    "print(intersected_test.equals(calculate_intersection([allmusic_df, discogs_df, lastfm_df, tagtraum_df], 'recordingmbid'))) \n",
    "\n",
    "\n",
    "\n",
    "print(not is_subgenre('discogs---jazz'))\n",
    "print(is_subgenre('discogs---classical---impressionist'))\n",
    "\n",
    "\n",
    "\n",
    "#remove unwanted labels fuction to be applied to each dataframe cell\n",
    "print(remove_unwanted_labels(\"allmusic---rap---reggaeton\") == None)\n",
    "print(remove_unwanted_labels(\"tagtraum---rock/pop---alternative\") == \"tagtraum---rock/pop---alternative\")\n",
    "print(remove_unwanted_labels(\"should be equal\") == \"should be equal\")\n",
    "print(remove_unwanted_labels(1) == 1)\n",
    "\n",
    "\n",
    "\n",
    "\n",
    "#create_subgenre_to_trackIndexes_map\n",
    "test_tracks = ['track1', 'track2', 'track3']\n",
    "test_genres = ['rock', 'dance', 'blues', 'experimental']\n",
    "test_intersect = OrderedDict([ ('recordingmbid', test_tracks),\n",
    "          ('genre1', [None, 'rock', None]),\n",
    "          ('genre2', [None, 'blues', 'dance'] ),\n",
    "          ('genre3', [None, 'dance', None] ),\n",
    "          ('other_stuff', ['id', 'id', 'id'] ),                   \n",
    "          ('genre4', ['rock', None, None] )])\n",
    "df_test = pd.DataFrame.from_dict(test_intersect)\n",
    "\n",
    "expected_result = {'rock': [1, 1, 0], 'dance': [0, 1, 1], 'blues': [0, 1, 0], 'experimental': [0, 0, 0]}\n",
    "actual_result = create_subgenre_to_trackIndexes_map(df_test, test_genres, test_tracks)\n",
    "print(expected_result == actual_result)\n",
    "\n"
   ]
  },
  {
   "cell_type": "code",
   "execution_count": 18,
   "metadata": {},
   "outputs": [
    {
     "data": {
      "text/plain": [
       "'Iteration 2 Progress: 66.67%'"
      ]
     },
     "metadata": {},
     "output_type": "display_data"
    },
    {
     "name": "stdout",
     "output_type": "stream",
     "text": [
      "True\n"
     ]
    }
   ],
   "source": []
  },
  {
   "cell_type": "code",
   "execution_count": null,
   "metadata": {},
   "outputs": [],
   "source": []
  }
 ],
 "metadata": {
  "kernelspec": {
   "display_name": "Python 3",
   "language": "python",
   "name": "python3"
  },
  "language_info": {
   "codemirror_mode": {
    "name": "ipython",
    "version": 3
   },
   "file_extension": ".py",
   "mimetype": "text/x-python",
   "name": "python",
   "nbconvert_exporter": "python",
   "pygments_lexer": "ipython3",
   "version": "3.7.1"
  }
 },
 "nbformat": 4,
 "nbformat_minor": 2
}
