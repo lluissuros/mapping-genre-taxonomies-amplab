{
 "cells": [
  {
   "cell_type": "code",
   "execution_count": 68,
   "metadata": {},
   "outputs": [
    {
     "name": "stdout",
     "output_type": "stream",
     "text": [
      "loading datasets....\n",
      "\n",
      "allmusic_ds is loaded , \n",
      "Size = 56834946\n",
      "Shape =(1353213, 42)\n",
      "\n",
      "\n",
      "discogs_ds is loaded , \n",
      "Size = 28958208\n",
      "Shape =(904944, 32)\n",
      "\n",
      "\n",
      "lastfm_ds is loaded , \n",
      "Size = 6800520\n",
      "Shape =(566710, 12)\n",
      "\n",
      "\n",
      "tagtraum_ds is loaded , \n",
      "Size = 5354140\n",
      "Shape =(486740, 11)\n",
      "\n",
      "\n"
     ]
    }
   ],
   "source": [
    "#preparation\n",
    "import pandas as pd\n",
    "\n",
    "\n",
    "def printDataFrame(df, message):    \n",
    "    print(message + \" \\nSize = {}\\nShape ={}\\n\\n\"\n",
    "          .format(df.size, df.shape))\n",
    "\n",
    "    \n",
    "print('loading datasets....\\n')\n",
    "dataset_path = './datasets/'\n",
    "\n",
    "allmusic_ds=pd.read_csv(dataset_path + 'acousticbrainz-mediaeval2017-allmusic-train.tsv',delimiter='\\t', dtype=str)\n",
    "printDataFrame(allmusic_ds, 'allmusic_ds is loaded')\n",
    "\n",
    "\n",
    "discogs_ds=pd.read_csv(dataset_path + 'acousticbrainz-mediaeval2017-discogs-train.tsv',delimiter='\\t')\n",
    "printDataFrame(discogs_ds, 'discogs_ds is loaded') \n",
    "\n",
    "\n",
    "lastfm_ds=pd.read_csv(dataset_path + 'acousticbrainz-mediaeval2017-lastfm-train.tsv',delimiter='\\t')\n",
    "printDataFrame(lastfm_ds, 'lastfm_ds is loaded')  \n",
    "\n",
    "\n",
    "tagtraum_ds=pd.read_csv(dataset_path + 'acousticbrainz-mediaeval2017-tagtraum-train.tsv',delimiter='\\t')\n",
    "printDataFrame(tagtraum_ds, 'tagtraum_ds is loaded')\n",
    "\n",
    "\n",
    "#print(allmusic_ds.head(5)) #first N rows"
   ]
  },
  {
   "cell_type": "code",
   "execution_count": 75,
   "metadata": {},
   "outputs": [
    {
     "name": "stdout",
     "output_type": "stream",
     "text": [
      "intersection allmusic_ds + discogs_ds  , \n",
      "Size = 60717312\n",
      "Shape =(831744, 73)\n",
      "\n",
      "\n",
      " lastfm_ds added in the intersection  , \n",
      "Size = 32343360\n",
      "Shape =(385040, 84)\n",
      "\n",
      "\n",
      "all 4 intersected , \n",
      "Size = 23285304\n",
      "Shape =(247716, 94)\n",
      "\n",
      "\n"
     ]
    }
   ],
   "source": [
    "#1.-Take the four datasets and compute the intersection of all of them, based on the recording ID.\n",
    "\n",
    "print('computing datasets intersection....\\n')\n",
    "\n",
    "intersected_df = pd.merge(allmusic_ds, discogs_ds, how='inner', on=['recordingmbid'])\n",
    "printDataFrame(intersected_df, 'intersection allmusic_ds + discogs_ds ')\n",
    "\n",
    "intersected_df = pd.merge(intersected_df, lastfm_ds, how='inner', on=['recordingmbid'])\n",
    "printDataFrame(intersected_df, ' lastfm_ds added in the intersection ')\n",
    "\n",
    "intersected_df = pd.merge(intersected_df, tagtraum_ds, how='inner', on=['recordingmbid'])\n",
    "printDataFrame(intersected_df, 'all 4 intersected')"
   ]
  },
  {
   "cell_type": "code",
   "execution_count": null,
   "metadata": {},
   "outputs": [],
   "source": []
  },
  {
   "cell_type": "code",
   "execution_count": null,
   "metadata": {},
   "outputs": [],
   "source": []
  }
 ],
 "metadata": {
  "kernelspec": {
   "display_name": "Python 3",
   "language": "python",
   "name": "python3"
  },
  "language_info": {
   "codemirror_mode": {
    "name": "ipython",
    "version": 3
   },
   "file_extension": ".py",
   "mimetype": "text/x-python",
   "name": "python",
   "nbconvert_exporter": "python",
   "pygments_lexer": "ipython3",
   "version": "3.7.1"
  }
 },
 "nbformat": 4,
 "nbformat_minor": 2
}
