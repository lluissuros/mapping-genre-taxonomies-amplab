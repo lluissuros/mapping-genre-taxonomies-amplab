{
 "cells": [
  {
   "cell_type": "code",
   "execution_count": 84,
   "metadata": {},
   "outputs": [
    {
     "name": "stdout",
     "output_type": "stream",
     "text": [
      "loading datasets....\n",
      "\n",
      "allmusic_df is loaded \n",
      "Size = 56834946\n",
      "Shape =(1353213, 42)\n",
      "\n",
      "\n"
     ]
    },
    {
     "name": "stderr",
     "output_type": "stream",
     "text": [
      "/usr/local/lib/python3.7/site-packages/IPython/core/interactiveshell.py:3018: DtypeWarning: Columns (17,18,19,20,21,22,23,24,25,26,27,28,29,30,31) have mixed types. Specify dtype option on import or set low_memory=False.\n",
      "  interactivity=interactivity, compiler=compiler, result=result)\n"
     ]
    },
    {
     "name": "stdout",
     "output_type": "stream",
     "text": [
      "discogs_df is loaded \n",
      "Size = 28958208\n",
      "Shape =(904944, 32)\n",
      "\n",
      "\n"
     ]
    },
    {
     "name": "stderr",
     "output_type": "stream",
     "text": [
      "/usr/local/lib/python3.7/site-packages/IPython/core/interactiveshell.py:3018: DtypeWarning: Columns (11) have mixed types. Specify dtype option on import or set low_memory=False.\n",
      "  interactivity=interactivity, compiler=compiler, result=result)\n"
     ]
    },
    {
     "name": "stdout",
     "output_type": "stream",
     "text": [
      "lastfm_df is loaded \n",
      "Size = 6800520\n",
      "Shape =(566710, 12)\n",
      "\n",
      "\n",
      "tagtraum_df is loaded \n",
      "Size = 5354140\n",
      "Shape =(486740, 11)\n",
      "\n",
      "\n"
     ]
    }
   ],
   "source": [
    "#preparation\n",
    "import pandas as pd\n",
    "\n",
    "\n",
    "def printDataFrame(df, message):    \n",
    "    print(message + \" \\nSize = {}\\nShape ={}\\n\\n\"\n",
    "          .format(df.size, df.shape))\n",
    "\n",
    "    \n",
    "print('loading datasets....\\n')\n",
    "dataset_path = './datasets/'\n",
    "\n",
    "allmusic_df=pd.read_csv(dataset_path + 'acousticbrainz-mediaeval2017-allmusic-train.tsv',delimiter='\\t', dtype=str)\n",
    "printDataFrame(allmusic_df, 'allmusic_df is loaded')\n",
    "\n",
    "\n",
    "discogs_df=pd.read_csv(dataset_path + 'acousticbrainz-mediaeval2017-discogs-train.tsv',delimiter='\\t')\n",
    "printDataFrame(discogs_df, 'discogs_df is loaded') \n",
    "\n",
    "\n",
    "lastfm_df=pd.read_csv(dataset_path + 'acousticbrainz-mediaeval2017-lastfm-train.tsv',delimiter='\\t')\n",
    "printDataFrame(lastfm_df, 'lastfm_df is loaded')  \n",
    "\n",
    "\n",
    "tagtraum_df=pd.read_csv(dataset_path + 'acousticbrainz-mediaeval2017-tagtraum-train.tsv',delimiter='\\t')\n",
    "printDataFrame(tagtraum_df, 'tagtraum_df is loaded')\n",
    "\n",
    "\n",
    "#print(allmusic_df.head(5)) #first N rows"
   ]
  },
  {
   "cell_type": "code",
   "execution_count": 291,
   "metadata": {},
   "outputs": [
    {
     "name": "stdout",
     "output_type": "stream",
     "text": [
      "computing datasets intersection....\n",
      "\n",
      "intersection allmusic_df + discogs_df  \n",
      "Size = 60717312\n",
      "Shape =(831744, 73)\n",
      "\n",
      "\n",
      " lastfm_df added in the intersection  \n",
      "Size = 32343360\n",
      "Shape =(385040, 84)\n",
      "\n",
      "\n",
      "all 4 intersected \n",
      "Size = 23285304\n",
      "Shape =(247716, 94)\n",
      "\n",
      "\n"
     ]
    }
   ],
   "source": [
    "#1.-Take the four datasets and compute the intersection of all of them, based on the recording ID.\n",
    "\n",
    "def calculate_intersection(dflist, column):\n",
    "    intersected_temp = pd.merge(dflist[0], dflist[1], how='inner', on=[column])\n",
    "    for df in dflist[2:]:\n",
    "        intersected_temp = pd.merge(intersected_temp, df, how='inner', on=[column])\n",
    "    return intersected_temp\n",
    "\n",
    "\n",
    "print('computing datasets intersection....\\n')\n",
    "      \n",
    "intersected_df = calculate_intersection([allmusic_df, discogs_df, lastfm_df, tagtraum_df], 'recordingmbid')        \n",
    "\n",
    "printDataFrame(intersected_df, 'all 4 intersected')\n"
   ]
  },
  {
   "cell_type": "code",
   "execution_count": 304,
   "metadata": {},
   "outputs": [
    {
     "name": "stdout",
     "output_type": "stream",
     "text": [
      "prefixes added\n",
      "intersection claculated\n",
      "all 4 intersected, empty columns removed \n",
      "Size = 20808144\n",
      "Shape =(247716, 84)\n",
      "\n",
      "\n"
     ]
    }
   ],
   "source": [
    "# 2- Based on this intersection, create a dataset with annotations by all four sources,\n",
    "# where every subgenre is expressed as a string \"sourcename---genrename---subgenrename\" \n",
    "# to be able to distinguish subgenres coming from different annotation sources.\n",
    "\n",
    "def add_prefix(val, prefix):\n",
    "    if (type(val) == str):\n",
    "        return prefix + val\n",
    "    \n",
    "def get_genres(df):\n",
    "    return df.iloc[:, 2:]\n",
    "\n",
    "def get_ids(df):\n",
    "    return df.iloc[:, :2]\n",
    "     \n",
    "def add_genre_prefix(df, prefix):\n",
    "    ids = get_ids(df)\n",
    "    formatted_genres = get_genres(df).applymap(lambda x: add_prefix(x, prefix))\n",
    "    return pd.concat([ids, formatted_genres], axis=1)\n",
    "\n",
    "def remove_nan_columns(df):\n",
    "    all_na_indexes = df.columns[df.isna().all()].tolist()\n",
    "    return df.drop(all_na_indexes, axis=1)\n",
    "\n",
    "\n",
    "lastfm_formatted = add_genre_prefix(lastfm_df,'lastfm---')\n",
    "discogs_formatted = add_genre_prefix(discogs_df,'discogs---')\n",
    "allmusic_formatted = add_genre_prefix(allmusic_df,'allmusic---')\n",
    "tagtraum_formatted = add_genre_prefix(tagtraum_df,'tagtraum---')\n",
    "print('prefixes added')\n",
    "\n",
    "\n",
    "intersected_df = calculate_intersection([\n",
    "    allmusic_formatted, \n",
    "    discogs_formatted, \n",
    "    lastfm_formatted, \n",
    "    tagtraum_formatted],\n",
    "    'recordingmbid')        \n",
    "\n",
    "print('intersection claculated \\n')\n",
    "    \n",
    "intersected_df = remove_nan_columns(intersected_df)\n",
    "printDataFrame(intersected_df, 'all 4 sources intersected, empty columns removed')"
   ]
  },
  {
   "cell_type": "code",
   "execution_count": 486,
   "metadata": {},
   "outputs": [
    {
     "name": "stdout",
     "output_type": "stream",
     "text": [
      " \n",
      "1702 labels found \n",
      "\n",
      "1060 subgenre labels appear more than 200 times \n",
      "\n",
      "1290705 subgenre values removed,  2201023 subgenre values kept\n",
      "\n"
     ]
    }
   ],
   "source": [
    "#3 - If you have too many subgenre labels, remove subgenres that occur for less than 200 recordings \n",
    "#(or decide your own threshold).\n",
    "\n",
    "min_threshold = 200\n",
    "\n",
    "def is_subgenre(string):\n",
    "    return \"---\" in string[string.find(\"---\")+3:]\n",
    "\n",
    "indexs = intersected_df.columns[pd.Series(intersected_df.columns).str.startswith('genre')].tolist()\n",
    "unique_indexs = list(set(indexs))\n",
    "genre_columns = intersected_df[unique_indexs]\n",
    "counts = genre_columns.apply(pd.value_counts)\n",
    "ranked_counts = counts.sum(axis=1).sort_values(ascending=False)\n",
    "print(\" \\n{} labels found \\n\"\n",
    "      .format(len(ranked_counts.index[:])))\n",
    "\n",
    "genre_labels = ranked_counts[ranked_counts>min_threshold].index[:].tolist()\n",
    "subgenres_to_keep = [i for i in genre_labels if is_subgenre(i)]\n",
    "\n",
    "print(\"{} subgenre labels appear more than {} times \\n\"\n",
    "      .format(len(subgenres_to_keep), min_threshold))\n",
    "\n",
    "\n",
    "#remove unwanted subgenres\n",
    "deleted_subgenres_counter = 0\n",
    "kept_subgenres_counter = 0\n",
    "def is_genre_or_subgenre(string): return \"---\" in string;\n",
    "\n",
    "def remove_unwanted_labels(val):\n",
    "    new_val= val\n",
    "    if (type(val) == str):\n",
    "        if is_genre_or_subgenre(val):\n",
    "            if val not in subgenres_to_keep:\n",
    "                new_val = None\n",
    "                global deleted_subgenres_counter\n",
    "                deleted_subgenres_counter += 1\n",
    "            else:\n",
    "                global kept_subgenres_counter\n",
    "                kept_subgenres_counter +=1\n",
    "    return new_val\n",
    "\n",
    "intersected_filtered = intersected_df.applymap(remove_unwanted_labels)\n",
    "\n",
    "print(\"{} subgenre/genre values removed,  {} subgenre values kept\\n\"\n",
    "      .format(deleted_subgenres_counter, kept_subgenres_counter))"
   ]
  },
  {
   "cell_type": "code",
   "execution_count": null,
   "metadata": {},
   "outputs": [],
   "source": [
    "# 4.- Compute a track-subgenre occurrence matrix. Rows represent tracks, columns represent subgenres.\n",
    "# Each cell represents if a particular track is annotated by a particular subgenrename (1 or 0).\n",
    "# This matrix allows to compute similarity between subgenres using a cosine distance between columns, \n",
    "# and we can use this similarity to cluster similar subgenres together."
   ]
  },
  {
   "cell_type": "code",
   "execution_count": 162,
   "metadata": {},
   "outputs": [
    {
     "data": {
      "text/plain": [
       "True"
      ]
     },
     "execution_count": 162,
     "metadata": {},
     "output_type": "execute_result"
    }
   ],
   "source": [
    "# SOME TESTS\n",
    "\n",
    "print(lastfm_df.equals(pd.concat([get_ids(lastfm_df), get_genres(lastfm_df)], axis=1)))\n",
    "\n",
    "\n",
    "intersected_test = pd.merge(allmusic_df, discogs_df, how='inner', on=['recordingmbid'])\n",
    "intersected_test = pd.merge(intersected_test, lastfm_df, how='inner', on=['recordingmbid'])\n",
    "intersected_test = pd.merge(intersected_test, tagtraum_df, how='inner', on=['recordingmbid'])\n",
    "print(intersected_test.equals(calculate_intersection([allmusic_df, discogs_df, lastfm_df, tagtraum_df], 'recordingmbid'))) \n",
    "\n",
    "\n",
    "print(not is_subgenre('discogs---jazz'))\n",
    "print(is_subgenre('discogs---classical---impressionist'))\n",
    "\n",
    "\n",
    "print(remove_unwanted_labels(\"allmusic---rap---reggaeton\") == None)\n",
    "print(remove_unwanted_labels(\"tagtraum---rock/pop---alternative\") == \"tagtraum---rock/pop---alternative\")\n",
    "print(remove_unwanted_labels(\"should be equal\") == \"should be equal\")\n",
    "print(remove_unwanted_labels(1) == 1)\n"
   ]
  },
  {
   "cell_type": "code",
   "execution_count": 439,
   "metadata": {},
   "outputs": [
    {
     "data": {
      "text/plain": [
       "True"
      ]
     },
     "execution_count": 439,
     "metadata": {},
     "output_type": "execute_result"
    }
   ],
   "source": []
  },
  {
   "cell_type": "code",
   "execution_count": null,
   "metadata": {},
   "outputs": [],
   "source": []
  }
 ],
 "metadata": {
  "kernelspec": {
   "display_name": "Python 3",
   "language": "python",
   "name": "python3"
  },
  "language_info": {
   "codemirror_mode": {
    "name": "ipython",
    "version": 3
   },
   "file_extension": ".py",
   "mimetype": "text/x-python",
   "name": "python",
   "nbconvert_exporter": "python",
   "pygments_lexer": "ipython3",
   "version": "3.7.1"
  }
 },
 "nbformat": 4,
 "nbformat_minor": 2
}
